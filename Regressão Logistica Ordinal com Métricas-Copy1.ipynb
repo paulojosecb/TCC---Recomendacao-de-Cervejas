{
 "cells": [
  {
   "cell_type": "code",
   "execution_count": 2,
   "metadata": {},
   "outputs": [],
   "source": [
    "import numpy as np\n",
    "import pandas as pd\n",
    "\n",
    "import matplotlib.pyplot as plt\n",
    "import seaborn as sns\n",
    "sns.set_style('white')\n",
    "%matplotlib inline\n",
    "\n",
    "import math"
   ]
  },
  {
   "cell_type": "code",
   "execution_count": 3,
   "metadata": {},
   "outputs": [],
   "source": [
    "reviewsDF = pd.read_csv('boosted_beer_reviews.csv')"
   ]
  },
  {
   "cell_type": "code",
   "execution_count": 4,
   "metadata": {},
   "outputs": [
    {
     "data": {
      "text/html": [
       "<div>\n",
       "<style scoped>\n",
       "    .dataframe tbody tr th:only-of-type {\n",
       "        vertical-align: middle;\n",
       "    }\n",
       "\n",
       "    .dataframe tbody tr th {\n",
       "        vertical-align: top;\n",
       "    }\n",
       "\n",
       "    .dataframe thead th {\n",
       "        text-align: right;\n",
       "    }\n",
       "</style>\n",
       "<table border=\"1\" class=\"dataframe\">\n",
       "  <thead>\n",
       "    <tr style=\"text-align: right;\">\n",
       "      <th></th>\n",
       "      <th>Unnamed: 0</th>\n",
       "      <th>brewery_id</th>\n",
       "      <th>brewery_name</th>\n",
       "      <th>review_time</th>\n",
       "      <th>review_overall</th>\n",
       "      <th>review_aroma</th>\n",
       "      <th>review_appearance</th>\n",
       "      <th>review_profilename</th>\n",
       "      <th>beer_style</th>\n",
       "      <th>review_palate</th>\n",
       "      <th>review_taste</th>\n",
       "      <th>beer_name</th>\n",
       "      <th>beer_abv</th>\n",
       "      <th>beer_beerid</th>\n",
       "      <th>Boosted</th>\n",
       "    </tr>\n",
       "  </thead>\n",
       "  <tbody>\n",
       "    <tr>\n",
       "      <th>0</th>\n",
       "      <td>10</td>\n",
       "      <td>163</td>\n",
       "      <td>Amstel Brouwerij B. V.</td>\n",
       "      <td>1010963392</td>\n",
       "      <td>3</td>\n",
       "      <td>2.0</td>\n",
       "      <td>3.0</td>\n",
       "      <td>fodeeoz</td>\n",
       "      <td>Light Lager</td>\n",
       "      <td>2.5</td>\n",
       "      <td>2.5</td>\n",
       "      <td>Amstel Light</td>\n",
       "      <td>3.5</td>\n",
       "      <td>436</td>\n",
       "      <td>3</td>\n",
       "    </tr>\n",
       "    <tr>\n",
       "      <th>1</th>\n",
       "      <td>53684</td>\n",
       "      <td>81</td>\n",
       "      <td>Heineken Nederland B.V.</td>\n",
       "      <td>1013799042</td>\n",
       "      <td>3</td>\n",
       "      <td>2.0</td>\n",
       "      <td>3.0</td>\n",
       "      <td>fodeeoz</td>\n",
       "      <td>Euro Pale Lager</td>\n",
       "      <td>2.5</td>\n",
       "      <td>2.5</td>\n",
       "      <td>Heineken Lager Beer</td>\n",
       "      <td>5.0</td>\n",
       "      <td>246</td>\n",
       "      <td>6</td>\n",
       "    </tr>\n",
       "    <tr>\n",
       "      <th>2</th>\n",
       "      <td>91325</td>\n",
       "      <td>140</td>\n",
       "      <td>Sierra Nevada Brewing Co.</td>\n",
       "      <td>1010961818</td>\n",
       "      <td>4</td>\n",
       "      <td>5.0</td>\n",
       "      <td>4.5</td>\n",
       "      <td>fodeeoz</td>\n",
       "      <td>American Pale Ale (APA)</td>\n",
       "      <td>4.5</td>\n",
       "      <td>5.0</td>\n",
       "      <td>Sierra Nevada Pale Ale</td>\n",
       "      <td>5.6</td>\n",
       "      <td>276</td>\n",
       "      <td>10</td>\n",
       "    </tr>\n",
       "    <tr>\n",
       "      <th>3</th>\n",
       "      <td>96343</td>\n",
       "      <td>140</td>\n",
       "      <td>Sierra Nevada Brewing Co.</td>\n",
       "      <td>1013106080</td>\n",
       "      <td>3</td>\n",
       "      <td>3.5</td>\n",
       "      <td>3.0</td>\n",
       "      <td>fodeeoz</td>\n",
       "      <td>American Pale Wheat Ale</td>\n",
       "      <td>3.5</td>\n",
       "      <td>3.5</td>\n",
       "      <td>Sierra Nevada Wheat Beer</td>\n",
       "      <td>4.4</td>\n",
       "      <td>282</td>\n",
       "      <td>13</td>\n",
       "    </tr>\n",
       "    <tr>\n",
       "      <th>4</th>\n",
       "      <td>123281</td>\n",
       "      <td>273</td>\n",
       "      <td>SweetWater Brewing Company</td>\n",
       "      <td>1077762315</td>\n",
       "      <td>4</td>\n",
       "      <td>3.0</td>\n",
       "      <td>3.5</td>\n",
       "      <td>fodeeoz</td>\n",
       "      <td>American Pale Ale (APA)</td>\n",
       "      <td>4.5</td>\n",
       "      <td>4.5</td>\n",
       "      <td>Sweetwater 420 Extra Pale Ale</td>\n",
       "      <td>5.4</td>\n",
       "      <td>751</td>\n",
       "      <td>17</td>\n",
       "    </tr>\n",
       "  </tbody>\n",
       "</table>\n",
       "</div>"
      ],
      "text/plain": [
       "   Unnamed: 0  brewery_id                brewery_name  review_time  \\\n",
       "0          10         163      Amstel Brouwerij B. V.   1010963392   \n",
       "1       53684          81     Heineken Nederland B.V.   1013799042   \n",
       "2       91325         140   Sierra Nevada Brewing Co.   1010961818   \n",
       "3       96343         140   Sierra Nevada Brewing Co.   1013106080   \n",
       "4      123281         273  SweetWater Brewing Company   1077762315   \n",
       "\n",
       "   review_overall  review_aroma  review_appearance review_profilename  \\\n",
       "0               3           2.0                3.0            fodeeoz   \n",
       "1               3           2.0                3.0            fodeeoz   \n",
       "2               4           5.0                4.5            fodeeoz   \n",
       "3               3           3.5                3.0            fodeeoz   \n",
       "4               4           3.0                3.5            fodeeoz   \n",
       "\n",
       "                beer_style  review_palate  review_taste  \\\n",
       "0              Light Lager            2.5           2.5   \n",
       "1          Euro Pale Lager            2.5           2.5   \n",
       "2  American Pale Ale (APA)            4.5           5.0   \n",
       "3  American Pale Wheat Ale            3.5           3.5   \n",
       "4  American Pale Ale (APA)            4.5           4.5   \n",
       "\n",
       "                       beer_name  beer_abv  beer_beerid  Boosted  \n",
       "0                   Amstel Light       3.5          436        3  \n",
       "1            Heineken Lager Beer       5.0          246        6  \n",
       "2         Sierra Nevada Pale Ale       5.6          276       10  \n",
       "3       Sierra Nevada Wheat Beer       4.4          282       13  \n",
       "4  Sweetwater 420 Extra Pale Ale       5.4          751       17  "
      ]
     },
     "execution_count": 4,
     "metadata": {},
     "output_type": "execute_result"
    }
   ],
   "source": [
    "reviewsDF.head()"
   ]
  },
  {
   "cell_type": "code",
   "execution_count": 5,
   "metadata": {},
   "outputs": [
    {
     "ename": "ModuleNotFoundError",
     "evalue": "No module named 'mord'",
     "output_type": "error",
     "traceback": [
      "\u001b[1;31m---------------------------------------------------------------------------\u001b[0m",
      "\u001b[1;31mModuleNotFoundError\u001b[0m                       Traceback (most recent call last)",
      "\u001b[1;32m<ipython-input-5-25d81ba608ad>\u001b[0m in \u001b[0;36m<module>\u001b[1;34m\u001b[0m\n\u001b[0;32m      1\u001b[0m \u001b[1;32mfrom\u001b[0m \u001b[0msklearn\u001b[0m\u001b[1;33m.\u001b[0m\u001b[0mmodel_selection\u001b[0m \u001b[1;32mimport\u001b[0m \u001b[0mtrain_test_split\u001b[0m\u001b[1;33m\u001b[0m\u001b[1;33m\u001b[0m\u001b[0m\n\u001b[0;32m      2\u001b[0m \u001b[1;33m\u001b[0m\u001b[0m\n\u001b[1;32m----> 3\u001b[1;33m \u001b[1;32mfrom\u001b[0m \u001b[0mmord\u001b[0m \u001b[1;32mimport\u001b[0m \u001b[0mLogisticAT\u001b[0m\u001b[1;33m,\u001b[0m \u001b[0mLogisticIT\u001b[0m\u001b[1;33m,\u001b[0m \u001b[0mLAD\u001b[0m\u001b[1;33m,\u001b[0m \u001b[0mOrdinalRidge\u001b[0m\u001b[1;33m\u001b[0m\u001b[1;33m\u001b[0m\u001b[0m\n\u001b[0m",
      "\u001b[1;31mModuleNotFoundError\u001b[0m: No module named 'mord'"
     ]
    }
   ],
   "source": [
    "from sklearn.model_selection import train_test_split\n",
    "\n",
    "from mord import LogisticAT, LogisticIT, LAD, OrdinalRidge"
   ]
  },
  {
   "cell_type": "code",
   "execution_count": null,
   "metadata": {},
   "outputs": [],
   "source": [
    "filteredReviewsDF = "
   ]
  },
  {
   "cell_type": "code",
   "execution_count": 15,
   "metadata": {},
   "outputs": [],
   "source": [
    "X_train, X_test, y_train, y_test = train_test_split(filteredReviewsDF.drop('review_overall',axis=1), \n",
    "                                                    filteredReviewsDF['review_overall'], test_size=0.30, \n",
    "                                                    random_state=101)\n"
   ]
  },
  {
   "cell_type": "code",
   "execution_count": 16,
   "metadata": {},
   "outputs": [],
   "source": [
    "model_AT = LogisticAT(alpha=0)\n",
    "pred_AT = model_AT.fit(X_train, y_train)\n",
    "results_AT = pred_AT.predict(X_test)"
   ]
  },
  {
   "cell_type": "code",
   "execution_count": 17,
   "metadata": {},
   "outputs": [],
   "source": [
    "model_IT = LogisticIT(alpha=0)\n",
    "pred_IT = model_IT.fit(X_train, y_train)\n",
    "results_IT = pred_IT.predict(X_test)"
   ]
  },
  {
   "cell_type": "code",
   "execution_count": 18,
   "metadata": {},
   "outputs": [
    {
     "name": "stderr",
     "output_type": "stream",
     "text": [
      "/Users/paulojosecb/opt/anaconda3/lib/python3.8/site-packages/sklearn/svm/_base.py:976: ConvergenceWarning: Liblinear failed to converge, increase the number of iterations.\n",
      "  warnings.warn(\"Liblinear failed to converge, increase \"\n"
     ]
    }
   ],
   "source": [
    "model_LAD = LAD()\n",
    "pred_LAD = model_LAD.fit(X_train, y_train)\n",
    "results_LAD = pred_LAD.predict(X_test)"
   ]
  },
  {
   "cell_type": "code",
   "execution_count": 19,
   "metadata": {},
   "outputs": [],
   "source": [
    "model_Ordinal_Ridge = OrdinalRidge(alpha=0)\n",
    "pred_Ordinal = model_Ordinal_Ridge.fit(X_train, y_train)\n",
    "results_Ordinal = pred_Ordinal.predict(X_test)"
   ]
  },
  {
   "cell_type": "code",
   "execution_count": 20,
   "metadata": {},
   "outputs": [],
   "source": [
    "from sklearn.metrics import accuracy_score\n",
    "from sklearn.metrics import confusion_matrix"
   ]
  },
  {
   "cell_type": "code",
   "execution_count": 21,
   "metadata": {},
   "outputs": [
    {
     "name": "stdout",
     "output_type": "stream",
     "text": [
      "LogisticAT:  0.6513121051649097\n"
     ]
    }
   ],
   "source": [
    "print('LogisticAT: ', accuracy_score(y_test, results_AT))"
   ]
  },
  {
   "cell_type": "code",
   "execution_count": 22,
   "metadata": {},
   "outputs": [
    {
     "name": "stdout",
     "output_type": "stream",
     "text": [
      "LogisticIT:  0.6512040321075229\n"
     ]
    }
   ],
   "source": [
    "print('LogisticIT: ', accuracy_score(y_test, results_IT))"
   ]
  },
  {
   "cell_type": "code",
   "execution_count": 23,
   "metadata": {},
   "outputs": [
    {
     "name": "stdout",
     "output_type": "stream",
     "text": [
      "LAD:  0.6489909906369433\n"
     ]
    }
   ],
   "source": [
    "print('LAD: ', accuracy_score(y_test, results_LAD))\n"
   ]
  },
  {
   "cell_type": "code",
   "execution_count": 24,
   "metadata": {},
   "outputs": [
    {
     "name": "stdout",
     "output_type": "stream",
     "text": [
      "OrdinalRidge:  0.647143923837969\n"
     ]
    }
   ],
   "source": [
    "print('OrdinalRidge: ', accuracy_score(y_test, results_Ordinal))"
   ]
  },
  {
   "cell_type": "code",
   "execution_count": 25,
   "metadata": {},
   "outputs": [],
   "source": [
    "from sklearn.metrics import confusion_matrix\n"
   ]
  },
  {
   "cell_type": "code",
   "execution_count": 26,
   "metadata": {},
   "outputs": [
    {
     "name": "stdout",
     "output_type": "stream",
     "text": [
      "LogisticAT:  [[   915   2449   1587    468      0]\n",
      " [   287   5187  13107   4717      0]\n",
      " [    96   2843  49119  66594      0]\n",
      " [    24    858  26255 209942      3]\n",
      " [    17    100   1028  21529      7]]\n"
     ]
    }
   ],
   "source": [
    "print('LogisticAT: ', confusion_matrix(y_test, results_AT))"
   ]
  },
  {
   "cell_type": "code",
   "execution_count": 27,
   "metadata": {},
   "outputs": [
    {
     "name": "stdout",
     "output_type": "stream",
     "text": [
      "LogisticIT:  [[  1708   1707   1486    518      0]\n",
      " [   985   4655  12473   5185      0]\n",
      " [   343   2716  44332  71261      0]\n",
      " [    92    819  21741 214430      0]\n",
      " [    34     85    925  21636      1]]\n"
     ]
    }
   ],
   "source": [
    "print('LogisticIT: ', confusion_matrix(y_test, results_IT))"
   ]
  },
  {
   "cell_type": "code",
   "execution_count": 28,
   "metadata": {},
   "outputs": [
    {
     "name": "stdout",
     "output_type": "stream",
     "text": [
      "LAD:  [[    16   2690   2270    441      2]\n",
      " [     0   3266  15662   4355     15]\n",
      " [     0   1388  56853  60313     98]\n",
      " [     0    417  33133 202369   1163]\n",
      " [     0     75   1242  19643   1721]]\n"
     ]
    }
   ],
   "source": [
    "print('LAD: ', confusion_matrix(y_test, results_LAD))\n"
   ]
  },
  {
   "cell_type": "code",
   "execution_count": 29,
   "metadata": {},
   "outputs": [
    {
     "name": "stdout",
     "output_type": "stream",
     "text": [
      "OrdinalRidge:  [[   180   2823   2061    353      2]\n",
      " [    25   3987  15723   3554      9]\n",
      " [     5   1805  64275  52509     58]\n",
      " [     2    530  41953 193875    722]\n",
      " [     3     83   1509  19930   1156]]\n"
     ]
    }
   ],
   "source": [
    "print('OrdinalRidge: ', confusion_matrix(y_test, results_Ordinal))"
   ]
  }
 ],
 "metadata": {
  "kernelspec": {
   "display_name": "Python 3",
   "language": "python",
   "name": "python3"
  },
  "language_info": {
   "codemirror_mode": {
    "name": "ipython",
    "version": 3
   },
   "file_extension": ".py",
   "mimetype": "text/x-python",
   "name": "python",
   "nbconvert_exporter": "python",
   "pygments_lexer": "ipython3",
   "version": "3.8.5"
  }
 },
 "nbformat": 4,
 "nbformat_minor": 4
}
